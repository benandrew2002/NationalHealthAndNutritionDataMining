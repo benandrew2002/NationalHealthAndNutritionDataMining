import pandas as pd
import seaborn as sns
import matplotlib.pyplot as plt

# Load the dataset
df = pd.read_csv('path_to_your_NHANES_dataset.csv')

# 1. What is the average age of participants?
average_age = df['Age'].mean()
print("Average Age:", average_age)

# 2. How does BMI vary across different income levels?
sns.boxplot(x='Income', y='BMI', data=df)
plt.title('BMI Distribution Across Income Levels')
plt.show()

# 3. What is the age distribution?
sns.histplot(df['Age'], kde=True)
plt.title('Age Distribution')
plt.show()

# 4. Is there a correlation between weight and height?
sns.scatterplot(x='Height', y='Weight', data=df)
plt.title('Height vs. Weight Correlation')
plt.show()

# 5. What is the gender distribution?
sns.countplot(x='Gender', data=df)
plt.title('Gender Distribution')
plt.show()

# 6. What percentage of participants fall within each income level?
income_distribution = df['Income'].value_counts(normalize=True) * 100
print("Income Distribution:\n", income_distribution)

# 7. How does BMI correlate with age?
sns.scatterplot(x='Age', y='BMI', data=df)
plt.title('BMI vs Age')
plt.show()

# 8. How is physical activity distributed by age group?
sns.boxplot(x='AgeGroup', y='PhysicalActivity', data=df)
plt.title('Physical Activity by Age Group')
plt.show()

# 9. What is the mean blood pressure for different age groups?
mean_bp_by_age = df.groupby('AgeGroup')['BloodPressure'].mean()
print("Mean Blood Pressure by Age Group:\n", mean_bp_by_age)

# 10. What percentage of the population falls into different BMI categories?
bmi_categories = df['BMICategory'].value_counts(normalize=True) * 100
print("BMI Categories:\n", bmi_categories)

# 11. How does income level affect blood pressure?
sns.boxplot(x='Income', y='BloodPressure', data=df)
plt.title('Blood Pressure by Income Level')
plt.show()

# 12. Does physical activity vary by income level?
sns.boxplot(x='Income', y='PhysicalActivity', data=df)
plt.title('Physical Activity by Income Level')
plt.show()

# 13. What are the common health conditions by age?
health_conditions_by_age = df.groupby('AgeGroup')['HealthCondition'].value_counts()
print("Common Health Conditions by Age:\n", health_conditions_by_age)

# 14. Is there a relationship between smoking and BMI?
sns.boxplot(x='SmokingStatus', y='BMI', data=df)
plt.title('BMI by Smoking Status')
plt.show()

# 15. How does alcohol consumption vary by age?
sns.boxplot(x='AgeGroup', y='AlcoholConsumption', data=df)
plt.title('Alcohol Consumption by Age Group')
plt.show()

# 16. What is the average household size?
average_household_size = df['HouseholdSize'].mean()
print("Average Household Size:", average_household_size)

# 17. What is the correlation between cholesterol levels and weight?
sns.scatterplot(x='Cholesterol', y='Weight', data=df)
plt.title('Cholesterol vs Weight')
plt.show()

# 18. How does diet affect cholesterol?
sns.boxplot(x='DietQuality', y='Cholesterol', data=df)
plt.title('Cholesterol by Diet Quality')
plt.show()

# 19. What are the most common health issues by gender?
common_health_issues_by_gender = df.groupby('Gender')['HealthCondition'].value_counts()
print("Common Health Issues by Gender:\n", common_health_issues_by_gender)

# 20. How many participants have diabetes?
num_diabetes = df['Diabetes'].sum()
print("Number of Participants with Diabetes:", num_diabetes)

# 21. What is the median income for participants with high blood pressure?
median_income_hbp = df[df['BloodPressure'] > 140]['Income'].median()
print("Median Income for High Blood Pressure:", median_income_hbp)

# 22. What is the distribution of physical activity levels?
sns.histplot(df['PhysicalActivity'], kde=True)
plt.title('Distribution of Physical Activity Levels')
plt.show()

# 23. How does education level affect income?
sns.boxplot(x='EducationLevel', y='Income', data=df)
plt.title('Income by Education Level')
plt.show()

# 24. Are certain age groups more likely to be smokers?
smoking_by_age_group = df.groupby('AgeGroup')['SmokingStatus'].value_counts(normalize=True) * 100
print("Smoking by Age Group:\n", smoking_by_age_group)

# 25. Does BMI differ significantly between smokers and non-smokers?
sns.boxplot(x='SmokingStatus', y='BMI', data=df)
plt.title('BMI by Smoking Status')
plt.show()

# 26. What is the mean age of participants with diabetes?
mean_age_diabetes = df[df['Diabetes'] == 1]['Age'].mean()
print("Mean Age of Participants with Diabetes:", mean_age_diabetes)

# 27. Is there a correlation between physical activity and age?
sns.scatterplot(x='Age', y='PhysicalActivity', data=df)
plt.title('Physical Activity vs Age')
plt.show()

# 28. What is the relationship between cholesterol and BMI?
sns.scatterplot(x='Cholesterol', y='BMI', data=df)
plt.title('Cholesterol vs BMI')
plt.show()

# 29. How many participants have hypertension?
num_hypertension = df[df['BloodPressure'] > 140].shape[0]
print("Number of Participants with Hypertension:", num_hypertension)

# 30. Does sleep quality vary across income levels?
sns.boxplot(x='Income', y='SleepQuality', data=df)
plt.title('Sleep Quality by Income Level')
plt.show()
